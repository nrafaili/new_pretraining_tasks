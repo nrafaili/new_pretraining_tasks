{
 "cells": [
  {
   "cell_type": "code",
   "execution_count": null,
   "metadata": {},
   "outputs": [],
   "source": [
    "from datasets import load_dataset, Dataset, DatasetDict, load_from_disk\n",
    "from sklearn.model_selection import train_test_split\n",
    "import numpy as np\n",
    "import random"
   ]
  },
  {
   "cell_type": "code",
   "execution_count": null,
   "metadata": {},
   "outputs": [],
   "source": [
    "class config :\n",
    "    global_seed = 398"
   ]
  },
  {
   "cell_type": "code",
   "execution_count": null,
   "metadata": {},
   "outputs": [],
   "source": [
    "dataset = load_dataset(\"lhallee/uniref50_50-512\", split='train')"
   ]
  },
  {
   "cell_type": "code",
   "execution_count": null,
   "metadata": {},
   "outputs": [],
   "source": [
    "train_dataset = dataset.filter(lambda x: 128 <= len(x['seq']) <= 256).shuffle(seed=config.global_seed)\n",
    "print(train_dataset)"
   ]
  },
  {
   "cell_type": "code",
   "execution_count": null,
   "metadata": {},
   "outputs": [],
   "source": [
    "num_tokens = 0\n",
    "for item in train_dataset\n",
    "    num_tokens += len(item['seq'])\n",
    "print(num_tokens)"
   ]
  },
  {
   "cell_type": "code",
   "execution_count": null,
   "metadata": {},
   "outputs": [],
   "source": [
    "eval_datasets = {\n",
    "    \"EC_reg\": \"lhallee/EC_reg\",\n",
    "    \"BP_reg\": \"lhallee/BP_reg\",\n",
    "    \"CC_reg\": \"lhallee/CC_reg\",\n",
    "    \"MF_reg\": \"lhallee/MF_reg\",\n",
    "    \"dl_binary_reg\": \"lhallee/dl_binary_reg\",\n",
    "    \"dl_ten_reg\": \"lhallee/dl_ten_reg\",\n",
    "    \"Thermostability_reg\": \"lhallee/Thermostability_reg\",\n",
    "    \"MetalionBinding_reg\": \"lhallee/MetalionBinding_reg\",\n",
    "    \"ssq3\": \"lhallee/ssq3\",\n",
    "    \"ssq8\": \"lhallee/ssq8\",\n",
    "    \"ProteinGym\": \"ICML2022/ProteinGym\"\n",
    "}\n",
    "\n",
    "all_eval_seqs = []\n",
    "\n",
    "# Loop through each dataset\n",
    "for dataset_name, dataset_identifier in eval_datasets.items():\n",
    "    dataset = load_dataset(dataset_identifier)\n",
    "    \n",
    "    # Loop through each split\n",
    "    for split in dataset.keys():  # Use all seqs\n",
    "        # Extract seqs\n",
    "        seqs = dataset[split]['seqs']\n",
    "        all_eval_seqs.extend(seqs)\n",
    "\n",
    "# Remove duplicates to ensure uniqueness\n",
    "eval_seqs = list(set(all_eval_seqs))\n"
   ]
  },
  {
   "cell_type": "code",
   "execution_count": null,
   "metadata": {},
   "outputs": [],
   "source": [
    "# download all finetuning sets\n",
    "# put all sequences in a list\n",
    "# eval_seqs = list(set(all_seqs))\n",
    "\n",
    "\"\"\"\n",
    "lhallee/EC_reg\n",
    "lhallee/BP_reg\n",
    "lhallee/CC_reg\n",
    "lhallee/MF_reg\n",
    "lhallee/dl_binary_reg\n",
    "lhallee/dl_ten_reg\n",
    "lhallee/Thermostability_reg\n",
    "lhallee/MetalIonBinding_reg\n",
    "lhallee/ssq3\n",
    "lhallee/ssq8\n",
    "ICML2022/ProteinGym\n",
    "\"\"\"\n",
    "\n",
    "data = data.filter(lambda x : 128 <= x['seq'] <= 256).shuffle() , data = data.filter(lambda x: 128 <= len(x['seq']) <= 256).shuffle()\n",
    "# cut out anything needed for evaluation, remove any matches from eval_seqs\n",
    "# select up to 90 million tokens\n",
    "data = data.select(range(500000))"
   ]
  }
 ],
 "metadata": {
  "kernelspec": {
   "display_name": "Python 3",
   "language": "python",
   "name": "python3"
  },
  "language_info": {
   "name": "python",
   "version": "3.11.2"
  }
 },
 "nbformat": 4,
 "nbformat_minor": 2
}
